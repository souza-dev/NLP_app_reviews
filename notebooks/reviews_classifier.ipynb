{
 "metadata": {
  "language_info": {
   "codemirror_mode": {
    "name": "ipython",
    "version": 3
   },
   "file_extension": ".py",
   "mimetype": "text/x-python",
   "name": "python",
   "nbconvert_exporter": "python",
   "pygments_lexer": "ipython3",
   "version": "3.8.5"
  },
  "orig_nbformat": 2,
  "kernelspec": {
   "name": "python385jvsc74a57bd0dca0ade3e726a953b501b15e8e990130d2b7799f14cfd9f4271676035ebe5511",
   "display_name": "Python 3.8.5 64-bit ('base': conda)"
  }
 },
 "nbformat": 4,
 "nbformat_minor": 2,
 "cells": [
  {
   "source": [
    "# Recuperação dos dados"
   ],
   "cell_type": "markdown",
   "metadata": {}
  },
  {
   "source": [
    "Os dados foram obtidos de https://github.com/amitt001/Android-App-Reviews-Dataset"
   ],
   "cell_type": "markdown",
   "metadata": {}
  },
  {
   "cell_type": "code",
   "execution_count": 97,
   "metadata": {},
   "outputs": [],
   "source": [
    "import os\n",
    "\n",
    "URL_ROOT = 'https://raw.githubusercontent.com/amitt001/Android-App-Reviews-Dataset/master/'\n",
    "\n",
    "POSITIVE_REVIEWS_DATA_URL = URL_ROOT+'positive10k.txt'\n",
    "NEGATIVE_REVIEWS_DATA_URL = URL_ROOT+'negative10k.txt'\n",
    "\n",
    "DATA_PATH = os.path.join('..', 'data', 'raw')\n",
    "POSITIVE_DATA_FILE = os.path.join(DATA_PATH, 'positive10k.txt')\n",
    "NEGATIVE_DATA_FILE = os.path.join(DATA_PATH, 'negative10k.txt')\n"
   ]
  },
  {
   "cell_type": "code",
   "execution_count": 99,
   "metadata": {},
   "outputs": [],
   "source": [
    "import urllib\n",
    "\n",
    "def download_data(data_url, data_path, data_file):\n",
    "    os.makedirs(data_path, exist_ok=True)\n",
    "    urllib.request.urlretrieve(data_url, data_file)\n",
    "\n",
    "download_data(POSITIVE_REVIEWS_DATA_URL, DATA_PATH, POSITIVE_DATA_FILE)\n",
    "download_data(NEGATIVE_REVIEWS_DATA_URL, DATA_PATH, NEGATIVE_DATA_FILE)"
   ]
  },
  {
   "cell_type": "code",
   "execution_count": 101,
   "metadata": {},
   "outputs": [],
   "source": [
    "import pandas as pd\n",
    "\n",
    "positive_df = pd.read_csv(POSITIVE_DATA_FILE,  delimiter = \"\\t\", header=None, names=['reviews'])\n",
    "negative_df = pd.read_csv(NEGATIVE_DATA_FILE,  delimiter = \"\\t\", header=None, names=['reviews'])"
   ]
  },
  {
   "cell_type": "code",
   "execution_count": 103,
   "metadata": {},
   "outputs": [],
   "source": [
    "#Adiciona coluna com 0 pra negativo e 1 pra positivo e concatena os dataframes\n",
    "positive_df['label'] = 1\n",
    "negative_df['label'] = 0\n",
    "data = pd.concat([positive_df, negative_df])"
   ]
  },
  {
   "cell_type": "code",
   "execution_count": 105,
   "metadata": {},
   "outputs": [
    {
     "output_type": "execute_result",
     "data": {
      "text/plain": [
       "                                             reviews  label\n",
       "0  Very simple and effective way for new words fo...      1\n",
       "1                                       Fh d Fcfatgv      1\n",
       "2  My son loved it. It is easy even though my son...      1\n",
       "3  Brilliant A brilliant app that is challenging ...      1\n",
       "4  Good I have gotten several updates and new gam...      1"
      ],
      "text/html": "<div>\n<style scoped>\n    .dataframe tbody tr th:only-of-type {\n        vertical-align: middle;\n    }\n\n    .dataframe tbody tr th {\n        vertical-align: top;\n    }\n\n    .dataframe thead th {\n        text-align: right;\n    }\n</style>\n<table border=\"1\" class=\"dataframe\">\n  <thead>\n    <tr style=\"text-align: right;\">\n      <th></th>\n      <th>reviews</th>\n      <th>label</th>\n    </tr>\n  </thead>\n  <tbody>\n    <tr>\n      <th>0</th>\n      <td>Very simple and effective way for new words fo...</td>\n      <td>1</td>\n    </tr>\n    <tr>\n      <th>1</th>\n      <td>Fh d Fcfatgv</td>\n      <td>1</td>\n    </tr>\n    <tr>\n      <th>2</th>\n      <td>My son loved it. It is easy even though my son...</td>\n      <td>1</td>\n    </tr>\n    <tr>\n      <th>3</th>\n      <td>Brilliant A brilliant app that is challenging ...</td>\n      <td>1</td>\n    </tr>\n    <tr>\n      <th>4</th>\n      <td>Good I have gotten several updates and new gam...</td>\n      <td>1</td>\n    </tr>\n  </tbody>\n</table>\n</div>"
     },
     "metadata": {},
     "execution_count": 105
    }
   ],
   "source": [
    "data.head()"
   ]
  },
  {
   "cell_type": "code",
   "execution_count": 107,
   "metadata": {},
   "outputs": [
    {
     "output_type": "execute_result",
     "data": {
      "text/plain": [
       "(19655, 2)"
      ]
     },
     "metadata": {},
     "execution_count": 107
    }
   ],
   "source": [
    "data.shape"
   ]
  },
  {
   "cell_type": "code",
   "execution_count": 109,
   "metadata": {},
   "outputs": [],
   "source": [
    "#Pegando só uma amostra pra melhorar o desempenho\n",
    "data = data.sample(frac=0.4, replace=False, random_state=42)"
   ]
  },
  {
   "cell_type": "code",
   "execution_count": 110,
   "metadata": {},
   "outputs": [
    {
     "output_type": "execute_result",
     "data": {
      "text/plain": [
       "(7862, 2)"
      ]
     },
     "metadata": {},
     "execution_count": 110
    }
   ],
   "source": [
    "data.shape"
   ]
  },
  {
   "source": [
    "# Preparação dos dados"
   ],
   "cell_type": "markdown",
   "metadata": {}
  },
  {
   "source": [
    "Download do modelo do spacy e das stopwords do nltk. Descomentar as linhas ao rodas pela primeira vez."
   ],
   "cell_type": "markdown",
   "metadata": {}
  },
  {
   "cell_type": "code",
   "execution_count": 111,
   "metadata": {},
   "outputs": [],
   "source": [
    "# import spacy.cli\n",
    "# spacy.cli.download(\"en_core_web_sm\")"
   ]
  },
  {
   "cell_type": "code",
   "execution_count": 112,
   "metadata": {},
   "outputs": [],
   "source": [
    "# import nltk\n",
    "# nltk.download('stopwords')"
   ]
  },
  {
   "source": [
    "## Preparando os dados"
   ],
   "cell_type": "markdown",
   "metadata": {}
  },
  {
   "cell_type": "code",
   "execution_count": 113,
   "metadata": {},
   "outputs": [],
   "source": [
    "import spacy\n",
    "nlp = spacy.load('en_core_web_sm')"
   ]
  },
  {
   "cell_type": "code",
   "execution_count": 114,
   "metadata": {},
   "outputs": [],
   "source": [
    "from nltk.corpus import stopwords\n",
    "stopwords_en = stopwords.words(\"english\")"
   ]
  },
  {
   "source": [
    "Removendo as stopwords que são úteis para a análise do conjunto de stop words"
   ],
   "cell_type": "markdown",
   "metadata": {}
  },
  {
   "cell_type": "code",
   "execution_count": 115,
   "metadata": {},
   "outputs": [],
   "source": [
    "to_remove = [ 'not',  \"aren't\", \"couldn't\", \"don't\"]\n",
    "\n",
    "for word in to_remove:\n",
    "    stopwords_en.remove(word)\n"
   ]
  },
  {
   "source": [
    "Função que limpa o texto filtrando somente as letras, retirando as stopword e lematizando. "
   ],
   "cell_type": "markdown",
   "metadata": {}
  },
  {
   "cell_type": "code",
   "execution_count": 116,
   "metadata": {},
   "outputs": [],
   "source": [
    "import re\n",
    "def clean_text(text):\n",
    "    text = text.lower()\n",
    "    text = re.sub(r\"[\\W\\d_]+\", \" \", text)\n",
    "    text = [word for word in text.split() if word not in stopwords_en]\n",
    "    nlp_text = nlp(\" \".join(text))\n",
    "    tokens = [word.lemma_ if word.lemma_ != \"-PRON-\" else word.lower_ for word in nlp_text]\n",
    "    return \" \".join(tokens)"
   ]
  },
  {
   "cell_type": "code",
   "execution_count": 117,
   "metadata": {},
   "outputs": [],
   "source": [
    "data['reviews'] = data['reviews'].apply(clean_text)"
   ]
  },
  {
   "cell_type": "code",
   "execution_count": 118,
   "metadata": {},
   "outputs": [
    {
     "output_type": "execute_result",
     "data": {
      "text/plain": [
       "                                                reviews  label\n",
       "2909                  bore without well control display      0\n",
       "4546  food great game amongst other definately enter...      1\n",
       "5927  excellent use free version till entry upgrade ...      1\n",
       "5466  thank love wonderful thing well nail salon ama...      1\n",
       "4797  home screen app ok aster recent update homepag...      0"
      ],
      "text/html": "<div>\n<style scoped>\n    .dataframe tbody tr th:only-of-type {\n        vertical-align: middle;\n    }\n\n    .dataframe tbody tr th {\n        vertical-align: top;\n    }\n\n    .dataframe thead th {\n        text-align: right;\n    }\n</style>\n<table border=\"1\" class=\"dataframe\">\n  <thead>\n    <tr style=\"text-align: right;\">\n      <th></th>\n      <th>reviews</th>\n      <th>label</th>\n    </tr>\n  </thead>\n  <tbody>\n    <tr>\n      <th>2909</th>\n      <td>bore without well control display</td>\n      <td>0</td>\n    </tr>\n    <tr>\n      <th>4546</th>\n      <td>food great game amongst other definately enter...</td>\n      <td>1</td>\n    </tr>\n    <tr>\n      <th>5927</th>\n      <td>excellent use free version till entry upgrade ...</td>\n      <td>1</td>\n    </tr>\n    <tr>\n      <th>5466</th>\n      <td>thank love wonderful thing well nail salon ama...</td>\n      <td>1</td>\n    </tr>\n    <tr>\n      <th>4797</th>\n      <td>home screen app ok aster recent update homepag...</td>\n      <td>0</td>\n    </tr>\n  </tbody>\n</table>\n</div>"
     },
     "metadata": {},
     "execution_count": 118
    }
   ],
   "source": [
    "data.head()"
   ]
  },
  {
   "source": [
    "# Testando os modelos"
   ],
   "cell_type": "markdown",
   "metadata": {}
  },
  {
   "cell_type": "code",
   "execution_count": 119,
   "metadata": {},
   "outputs": [],
   "source": [
    "from sklearn.feature_extraction.text import CountVectorizer\n",
    "from sklearn.feature_extraction.text import TfidfVectorizer\n",
    "\n",
    "text = data['reviews']\n",
    "\n",
    "vectorizer = CountVectorizer(binary=True, max_features=5000)\n",
    "X_bow = vectorizer.fit_transform(text)\n",
    "\n",
    "tfidf_vect = TfidfVectorizer(max_features=5000)\n",
    "vectorizer = tfidf_vect.fit(text)\n",
    "X_tfidf = vectorizer.transform(text)\n",
    "y = data['label']"
   ]
  },
  {
   "cell_type": "code",
   "execution_count": 120,
   "metadata": {},
   "outputs": [],
   "source": [
    "from sklearn.model_selection import train_test_split\n",
    "X1_train, X1_test, y1_train, y1_test = train_test_split(X_bow, y, test_size=0.3, random_state = 42)\n",
    "X2_train, X2_test, y2_train, y2_test = train_test_split(X_tfidf, y, test_size=0.3, random_state = 42)\n"
   ]
  },
  {
   "source": [
    "## Testando os modelos com o GridSearchCV"
   ],
   "cell_type": "markdown",
   "metadata": {}
  },
  {
   "cell_type": "code",
   "execution_count": 121,
   "metadata": {},
   "outputs": [],
   "source": [
    "import sklearn\n",
    "\n",
    "from sklearn.neighbors import KNeighborsClassifier\n",
    "from sklearn.linear_model import LogisticRegression\n",
    "from sklearn.tree import DecisionTreeClassifier\n",
    "from sklearn.ensemble import RandomForestClassifier"
   ]
  },
  {
   "cell_type": "code",
   "execution_count": 122,
   "metadata": {},
   "outputs": [],
   "source": [
    "def build_classifiers():\n",
    "    classifiers = []\n",
    "    classifiers.append(\n",
    "                      ('knn',                              # nome do classificador\n",
    "                        KNeighborsClassifier(),            # instancia do classificador\n",
    "                        {'n_neighbors' : range(1, 33, 2)}  # hiperparametros\n",
    "                      )\n",
    "    )\n",
    "    \n",
    "    classifiers.append(\n",
    "                      ('lr',                               \n",
    "                        LogisticRegression(max_iter=1000), \n",
    "                        {'penalty' : ['l2'], 'C' : [100, 10, 1, 0.1, 0.01]}  \n",
    "                      )\n",
    "    )\n",
    "    \n",
    "    classifiers.append(\n",
    "                      ('dt',\n",
    "                        DecisionTreeClassifier(),\n",
    "                        {'max_depth' : [2, 4, 6, 8, 10, 12]}\n",
    "                      )  \n",
    "    )\n",
    "    \n",
    "    classifiers.append(\n",
    "                      ('rf',\n",
    "                        RandomForestClassifier(),\n",
    "                        {'n_estimators' : [10, 50, 100]}\n",
    "                      ) \n",
    "    )\n",
    "\n",
    "    return classifiers"
   ]
  },
  {
   "cell_type": "code",
   "execution_count": 96,
   "metadata": {},
   "outputs": [
    {
     "output_type": "stream",
     "name": "stdout",
     "text": [
      "\n",
      ">> Classifier name: knn\n",
      "BOW Best parameters: {'n_neighbors': 3}\n",
      "BOW Best score: 0.751773263974899\n",
      "TFIDF Best parameters: {'n_neighbors': 3}\n",
      "TFIDFBest score: 0.6123955082156717\n",
      "\n",
      ">> Classifier name: lr\n",
      "BOW Best parameters: {'C': 1, 'penalty': 'l2'}\n",
      "BOW Best score: 0.8713435719593757\n",
      "TFIDF Best parameters: {'C': 1, 'penalty': 'l2'}\n",
      "TFIDFBest score: 0.8727969614400133\n",
      "\n",
      ">> Classifier name: dt\n",
      "BOW Best parameters: {'max_depth': 10}\n",
      "BOW Best score: 0.792479894310957\n",
      "TFIDF Best parameters: {'max_depth': 10}\n",
      "TFIDFBest score: 0.7826676575014451\n",
      "\n",
      ">> Classifier name: rf\n",
      "BOW Best parameters: {'n_estimators': 100}\n",
      "BOW Best score: 0.8555338122368095\n",
      "TFIDF Best parameters: {'n_estimators': 100}\n",
      "TFIDFBest score: 0.8529903393609116\n"
     ]
    }
   ],
   "source": [
    "from sklearn.model_selection import cross_val_score, GridSearchCV\n",
    "from sklearn.metrics import confusion_matrix, classification_report\n",
    "from sklearn.model_selection import KFold\n",
    "\n",
    "classifiers = build_classifiers()\n",
    "\n",
    "for name, model , parameters in classifiers:\n",
    "    print('\\n>> Classifier name: {}'.format(name))\n",
    "    gs = GridSearchCV(estimator=model, param_grid=parameters, refit=True, cv = 5, n_jobs=3)\n",
    "    gs.fit(X1_train, y1_train)\n",
    "    print(\"BOW Best parameters: {}\".format(gs.best_params_))\n",
    "    print(\"BOW Best score: {}\".format(gs.best_score_))\n",
    "    gs.fit(X2_train, y2_train)\n",
    "    print(\"TFIDF Best parameters: {}\".format(gs.best_params_))\n",
    "    print(\"TFIDFBest score: {}\".format(gs.best_score_))"
   ]
  },
  {
   "cell_type": "code",
   "execution_count": 98,
   "metadata": {},
   "outputs": [],
   "source": [
    "clf = LogisticRegression(max_iter=1000, C = 1, penalty = 'l2')\n",
    "clf.fit(X2_train, y2_train)\n",
    "y_pred = clf.predict(X2_test)"
   ]
  },
  {
   "source": [
    "## Acurácia do modelo escolhido"
   ],
   "cell_type": "markdown",
   "metadata": {}
  },
  {
   "cell_type": "code",
   "execution_count": 100,
   "metadata": {},
   "outputs": [],
   "source": [
    "from sklearn.metrics import accuracy_score, confusion_matrix, f1_score, roc_auc_score\n",
    "from sklearn.metrics import classification_report\n",
    "from sklearn.metrics import accuracy_score\n",
    "import matplotlib.pyplot as plt\n",
    "import seaborn as sns; sns.set_theme()\n",
    "\n",
    "def show_accuracy(y_true, y_pred):\n",
    "  print(\"Acurácia: \", accuracy_score(y_true, y_pred))\n",
    "  print(\"\\nAUROC:\", roc_auc_score(y_true, y_pred))\n",
    "  print(\"\\nF1-Score:\", f1_score(y_true, y_pred, average='weighted'))\n",
    "  print(\"\\nMatriz de confusão:\")\n",
    "  sns.heatmap(confusion_matrix(y_true, y_pred), annot=True)\n",
    "  plt.show()"
   ]
  },
  {
   "cell_type": "code",
   "execution_count": 102,
   "metadata": {},
   "outputs": [
    {
     "output_type": "stream",
     "name": "stdout",
     "text": [
      "Acurácia:  0.8766426451886392\n\nAUROC: 0.8766860314630007\n\nF1-Score: 0.876649473621947\n\nMatriz de confusão:\n"
     ]
    },
    {
     "output_type": "display_data",
     "data": {
      "text/plain": "<Figure size 432x288 with 2 Axes>",
      "image/svg+xml": "<?xml version=\"1.0\" encoding=\"utf-8\" standalone=\"no\"?>\n<!DOCTYPE svg PUBLIC \"-//W3C//DTD SVG 1.1//EN\"\n  \"http://www.w3.org/Graphics/SVG/1.1/DTD/svg11.dtd\">\n<!-- Created with matplotlib (https://matplotlib.org/) -->\n<svg height=\"251.399844pt\" version=\"1.1\" viewBox=\"0 0 363.379969 251.399844\" width=\"363.379969pt\" xmlns=\"http://www.w3.org/2000/svg\" xmlns:xlink=\"http://www.w3.org/1999/xlink\">\n <metadata>\n  <rdf:RDF xmlns:cc=\"http://creativecommons.org/ns#\" xmlns:dc=\"http://purl.org/dc/elements/1.1/\" xmlns:rdf=\"http://www.w3.org/1999/02/22-rdf-syntax-ns#\">\n   <cc:Work>\n    <dc:type rdf:resource=\"http://purl.org/dc/dcmitype/StillImage\"/>\n    <dc:date>2021-05-13T15:48:45.424981</dc:date>\n    <dc:format>image/svg+xml</dc:format>\n    <dc:creator>\n     <cc:Agent>\n      <dc:title>Matplotlib v3.3.2, https://matplotlib.org/</dc:title>\n     </cc:Agent>\n    </dc:creator>\n   </cc:Work>\n  </rdf:RDF>\n </metadata>\n <defs>\n  <style type=\"text/css\">*{stroke-linecap:butt;stroke-linejoin:round;}</style>\n </defs>\n <g id=\"figure_1\">\n  <g id=\"patch_1\">\n   <path d=\"M 0 251.399844 \nL 363.379969 251.399844 \nL 363.379969 0 \nL 0 0 \nz\n\" style=\"fill:#ffffff;\"/>\n  </g>\n  <g id=\"axes_1\">\n   <g id=\"patch_2\">\n    <path d=\"M 26.759844 224.64 \nL 294.599844 224.64 \nL 294.599844 7.2 \nL 26.759844 7.2 \nz\n\" style=\"fill:#eaeaf2;\"/>\n   </g>\n   <g id=\"matplotlib.axis_1\">\n    <g id=\"xtick_1\">\n     <g id=\"text_1\">\n      <!-- 0 -->\n      <g style=\"fill:#262626;\" transform=\"translate(90.661328 242.013594)scale(0.11 -0.11)\">\n       <defs>\n        <path d=\"M 4.15625 35.296875 \nQ 4.15625 48 6.765625 55.734375 \nQ 9.375 63.484375 14.515625 67.671875 \nQ 19.671875 71.875 27.484375 71.875 \nQ 33.25 71.875 37.59375 69.546875 \nQ 41.9375 67.234375 44.765625 62.859375 \nQ 47.609375 58.5 49.21875 52.21875 \nQ 50.828125 45.953125 50.828125 35.296875 \nQ 50.828125 22.703125 48.234375 14.96875 \nQ 45.65625 7.234375 40.5 3 \nQ 35.359375 -1.21875 27.484375 -1.21875 \nQ 17.140625 -1.21875 11.234375 6.203125 \nQ 4.15625 15.140625 4.15625 35.296875 \nz\nM 13.1875 35.296875 \nQ 13.1875 17.671875 17.3125 11.828125 \nQ 21.4375 6 27.484375 6 \nQ 33.546875 6 37.671875 11.859375 \nQ 41.796875 17.71875 41.796875 35.296875 \nQ 41.796875 52.984375 37.671875 58.78125 \nQ 33.546875 64.59375 27.390625 64.59375 \nQ 21.34375 64.59375 17.71875 59.46875 \nQ 13.1875 52.9375 13.1875 35.296875 \nz\n\" id=\"ArialMT-48\"/>\n       </defs>\n       <use xlink:href=\"#ArialMT-48\"/>\n      </g>\n     </g>\n    </g>\n    <g id=\"xtick_2\">\n     <g id=\"text_2\">\n      <!-- 1 -->\n      <g style=\"fill:#262626;\" transform=\"translate(224.581328 242.013594)scale(0.11 -0.11)\">\n       <defs>\n        <path d=\"M 37.25 0 \nL 28.46875 0 \nL 28.46875 56 \nQ 25.296875 52.984375 20.140625 49.953125 \nQ 14.984375 46.921875 10.890625 45.40625 \nL 10.890625 53.90625 \nQ 18.265625 57.375 23.78125 62.296875 \nQ 29.296875 67.234375 31.59375 71.875 \nL 37.25 71.875 \nz\n\" id=\"ArialMT-49\"/>\n       </defs>\n       <use xlink:href=\"#ArialMT-49\"/>\n      </g>\n     </g>\n    </g>\n   </g>\n   <g id=\"matplotlib.axis_2\">\n    <g id=\"ytick_1\">\n     <g id=\"text_3\">\n      <!-- 0 -->\n      <g style=\"fill:#262626;\" transform=\"translate(15.073594 63.740234)rotate(-90)scale(0.11 -0.11)\">\n       <use xlink:href=\"#ArialMT-48\"/>\n      </g>\n     </g>\n    </g>\n    <g id=\"ytick_2\">\n     <g id=\"text_4\">\n      <!-- 1 -->\n      <g style=\"fill:#262626;\" transform=\"translate(15.073594 172.460234)rotate(-90)scale(0.11 -0.11)\">\n       <use xlink:href=\"#ArialMT-49\"/>\n      </g>\n     </g>\n    </g>\n   </g>\n   <g id=\"QuadMesh_1\">\n    <path clip-path=\"url(#pc03b30374c)\" d=\"M 26.759844 7.2 \nL 160.679844 7.2 \nL 160.679844 115.92 \nL 26.759844 115.92 \nL 26.759844 7.2 \n\" style=\"fill:#f9e0cd;\"/>\n    <path clip-path=\"url(#pc03b30374c)\" d=\"M 160.679844 7.2 \nL 294.599844 7.2 \nL 294.599844 115.92 \nL 160.679844 115.92 \nL 160.679844 7.2 \n\" style=\"fill:#03051a;\"/>\n    <path clip-path=\"url(#pc03b30374c)\" d=\"M 26.759844 115.92 \nL 160.679844 115.92 \nL 160.679844 224.64 \nL 26.759844 224.64 \nL 26.759844 115.92 \n\" style=\"fill:#06071c;\"/>\n    <path clip-path=\"url(#pc03b30374c)\" d=\"M 160.679844 115.92 \nL 294.599844 115.92 \nL 294.599844 224.64 \nL 160.679844 224.64 \nL 160.679844 115.92 \n\" style=\"fill:#faebdd;\"/>\n   </g>\n   <g id=\"text_5\">\n    <!-- 1e+03 -->\n    <g style=\"fill:#262626;\" transform=\"translate(76.869219 64.662187)scale(0.12 -0.12)\">\n     <defs>\n      <path d=\"M 42.09375 16.703125 \nL 51.171875 15.578125 \nQ 49.03125 7.625 43.21875 3.21875 \nQ 37.40625 -1.171875 28.375 -1.171875 \nQ 17 -1.171875 10.328125 5.828125 \nQ 3.65625 12.84375 3.65625 25.484375 \nQ 3.65625 38.578125 10.390625 45.796875 \nQ 17.140625 53.03125 27.875 53.03125 \nQ 38.28125 53.03125 44.875 45.953125 \nQ 51.46875 38.875 51.46875 26.03125 \nQ 51.46875 25.25 51.421875 23.6875 \nL 12.75 23.6875 \nQ 13.234375 15.140625 17.578125 10.59375 \nQ 21.921875 6.0625 28.421875 6.0625 \nQ 33.25 6.0625 36.671875 8.59375 \nQ 40.09375 11.140625 42.09375 16.703125 \nz\nM 13.234375 30.90625 \nL 42.1875 30.90625 \nQ 41.609375 37.453125 38.875 40.71875 \nQ 34.671875 45.796875 27.984375 45.796875 \nQ 21.921875 45.796875 17.796875 41.75 \nQ 13.671875 37.703125 13.234375 30.90625 \nz\n\" id=\"ArialMT-101\"/>\n      <path d=\"M 25.046875 11.578125 \nL 25.046875 31.203125 \nL 5.5625 31.203125 \nL 5.5625 39.40625 \nL 25.046875 39.40625 \nL 25.046875 58.890625 \nL 33.34375 58.890625 \nL 33.34375 39.40625 \nL 52.828125 39.40625 \nL 52.828125 31.203125 \nL 33.34375 31.203125 \nL 33.34375 11.578125 \nz\n\" id=\"ArialMT-43\"/>\n      <path d=\"M 4.203125 18.890625 \nL 12.984375 20.0625 \nQ 14.5 12.59375 18.140625 9.296875 \nQ 21.78125 6 27 6 \nQ 33.203125 6 37.46875 10.296875 \nQ 41.75 14.59375 41.75 20.953125 \nQ 41.75 27 37.796875 30.921875 \nQ 33.84375 34.859375 27.734375 34.859375 \nQ 25.25 34.859375 21.53125 33.890625 \nL 22.515625 41.609375 \nQ 23.390625 41.5 23.921875 41.5 \nQ 29.546875 41.5 34.03125 44.421875 \nQ 38.53125 47.359375 38.53125 53.46875 \nQ 38.53125 58.296875 35.25 61.46875 \nQ 31.984375 64.65625 26.8125 64.65625 \nQ 21.6875 64.65625 18.265625 61.421875 \nQ 14.84375 58.203125 13.875 51.765625 \nL 5.078125 53.328125 \nQ 6.6875 62.15625 12.390625 67.015625 \nQ 18.109375 71.875 26.609375 71.875 \nQ 32.46875 71.875 37.390625 69.359375 \nQ 42.328125 66.84375 44.9375 62.5 \nQ 47.5625 58.15625 47.5625 53.265625 \nQ 47.5625 48.640625 45.0625 44.828125 \nQ 42.578125 41.015625 37.703125 38.765625 \nQ 44.046875 37.3125 47.5625 32.6875 \nQ 51.078125 28.078125 51.078125 21.140625 \nQ 51.078125 11.765625 44.234375 5.25 \nQ 37.40625 -1.265625 26.953125 -1.265625 \nQ 17.53125 -1.265625 11.296875 4.34375 \nQ 5.078125 9.96875 4.203125 18.890625 \nz\n\" id=\"ArialMT-51\"/>\n     </defs>\n     <use xlink:href=\"#ArialMT-49\"/>\n     <use x=\"55.615234\" xlink:href=\"#ArialMT-101\"/>\n     <use x=\"111.230469\" xlink:href=\"#ArialMT-43\"/>\n     <use x=\"169.628906\" xlink:href=\"#ArialMT-48\"/>\n     <use x=\"225.244141\" xlink:href=\"#ArialMT-51\"/>\n    </g>\n   </g>\n   <g id=\"text_6\">\n    <!-- 1.4e+02 -->\n    <g style=\"fill:#ffffff;\" transform=\"translate(205.785781 64.662187)scale(0.12 -0.12)\">\n     <defs>\n      <path d=\"M 9.078125 0 \nL 9.078125 10.015625 \nL 19.09375 10.015625 \nL 19.09375 0 \nz\n\" id=\"ArialMT-46\"/>\n      <path d=\"M 32.328125 0 \nL 32.328125 17.140625 \nL 1.265625 17.140625 \nL 1.265625 25.203125 \nL 33.9375 71.578125 \nL 41.109375 71.578125 \nL 41.109375 25.203125 \nL 50.78125 25.203125 \nL 50.78125 17.140625 \nL 41.109375 17.140625 \nL 41.109375 0 \nz\nM 32.328125 25.203125 \nL 32.328125 57.46875 \nL 9.90625 25.203125 \nz\n\" id=\"ArialMT-52\"/>\n      <path d=\"M 50.34375 8.453125 \nL 50.34375 0 \nL 3.03125 0 \nQ 2.9375 3.171875 4.046875 6.109375 \nQ 5.859375 10.9375 9.828125 15.625 \nQ 13.8125 20.3125 21.34375 26.46875 \nQ 33.015625 36.03125 37.109375 41.625 \nQ 41.21875 47.21875 41.21875 52.203125 \nQ 41.21875 57.421875 37.46875 61 \nQ 33.734375 64.59375 27.734375 64.59375 \nQ 21.390625 64.59375 17.578125 60.78125 \nQ 13.765625 56.984375 13.71875 50.25 \nL 4.6875 51.171875 \nQ 5.609375 61.28125 11.65625 66.578125 \nQ 17.71875 71.875 27.9375 71.875 \nQ 38.234375 71.875 44.234375 66.15625 \nQ 50.25 60.453125 50.25 52 \nQ 50.25 47.703125 48.484375 43.546875 \nQ 46.734375 39.40625 42.65625 34.8125 \nQ 38.578125 30.21875 29.109375 22.21875 \nQ 21.1875 15.578125 18.9375 13.203125 \nQ 16.703125 10.84375 15.234375 8.453125 \nz\n\" id=\"ArialMT-50\"/>\n     </defs>\n     <use xlink:href=\"#ArialMT-49\"/>\n     <use x=\"55.615234\" xlink:href=\"#ArialMT-46\"/>\n     <use x=\"83.398438\" xlink:href=\"#ArialMT-52\"/>\n     <use x=\"139.013672\" xlink:href=\"#ArialMT-101\"/>\n     <use x=\"194.628906\" xlink:href=\"#ArialMT-43\"/>\n     <use x=\"253.027344\" xlink:href=\"#ArialMT-48\"/>\n     <use x=\"308.642578\" xlink:href=\"#ArialMT-50\"/>\n    </g>\n   </g>\n   <g id=\"text_7\">\n    <!-- 1.5e+02 -->\n    <g style=\"fill:#ffffff;\" transform=\"translate(71.865781 173.382187)scale(0.12 -0.12)\">\n     <defs>\n      <path d=\"M 4.15625 18.75 \nL 13.375 19.53125 \nQ 14.40625 12.796875 18.140625 9.390625 \nQ 21.875 6 27.15625 6 \nQ 33.5 6 37.890625 10.78125 \nQ 42.28125 15.578125 42.28125 23.484375 \nQ 42.28125 31 38.0625 35.34375 \nQ 33.84375 39.703125 27 39.703125 \nQ 22.75 39.703125 19.328125 37.765625 \nQ 15.921875 35.84375 13.96875 32.765625 \nL 5.71875 33.84375 \nL 12.640625 70.609375 \nL 48.25 70.609375 \nL 48.25 62.203125 \nL 19.671875 62.203125 \nL 15.828125 42.96875 \nQ 22.265625 47.46875 29.34375 47.46875 \nQ 38.71875 47.46875 45.15625 40.96875 \nQ 51.609375 34.46875 51.609375 24.265625 \nQ 51.609375 14.546875 45.953125 7.46875 \nQ 39.0625 -1.21875 27.15625 -1.21875 \nQ 17.390625 -1.21875 11.203125 4.25 \nQ 5.03125 9.71875 4.15625 18.75 \nz\n\" id=\"ArialMT-53\"/>\n     </defs>\n     <use xlink:href=\"#ArialMT-49\"/>\n     <use x=\"55.615234\" xlink:href=\"#ArialMT-46\"/>\n     <use x=\"83.398438\" xlink:href=\"#ArialMT-53\"/>\n     <use x=\"139.013672\" xlink:href=\"#ArialMT-101\"/>\n     <use x=\"194.628906\" xlink:href=\"#ArialMT-43\"/>\n     <use x=\"253.027344\" xlink:href=\"#ArialMT-48\"/>\n     <use x=\"308.642578\" xlink:href=\"#ArialMT-50\"/>\n    </g>\n   </g>\n   <g id=\"text_8\">\n    <!-- 1e+03 -->\n    <g style=\"fill:#262626;\" transform=\"translate(210.789219 173.382187)scale(0.12 -0.12)\">\n     <use xlink:href=\"#ArialMT-49\"/>\n     <use x=\"55.615234\" xlink:href=\"#ArialMT-101\"/>\n     <use x=\"111.230469\" xlink:href=\"#ArialMT-43\"/>\n     <use x=\"169.628906\" xlink:href=\"#ArialMT-48\"/>\n     <use x=\"225.244141\" xlink:href=\"#ArialMT-51\"/>\n    </g>\n   </g>\n  </g>\n  <g id=\"axes_2\">\n   <g id=\"patch_3\">\n    <path clip-path=\"url(#p530be620cb)\" d=\"M 311.339844 224.64 \nL 311.339844 223.790625 \nL 311.339844 8.049375 \nL 311.339844 7.2 \nL 322.211844 7.2 \nL 322.211844 8.049375 \nL 322.211844 223.790625 \nL 322.211844 224.64 \nz\n\" style=\"fill:#eaeaf2;stroke:#eaeaf2;stroke-linejoin:miter;stroke-width:0.01;\"/>\n   </g>\n   <g id=\"matplotlib.axis_3\"/>\n   <g id=\"matplotlib.axis_4\">\n    <g id=\"ytick_3\">\n     <g id=\"line2d_1\">\n      <defs>\n       <path d=\"M 0 0 \nL 6 0 \n\" id=\"meb49004f4f\" style=\"stroke:#262626;stroke-width:1.25;\"/>\n      </defs>\n      <g>\n       <use style=\"fill:#262626;stroke:#262626;stroke-width:1.25;\" x=\"322.211844\" xlink:href=\"#meb49004f4f\" y=\"210.271718\"/>\n      </g>\n     </g>\n     <g id=\"text_9\">\n      <!-- 200 -->\n      <g style=\"fill:#262626;\" transform=\"translate(331.711844 214.208515)scale(0.11 -0.11)\">\n       <use xlink:href=\"#ArialMT-50\"/>\n       <use x=\"55.615234\" xlink:href=\"#ArialMT-48\"/>\n       <use x=\"111.230469\" xlink:href=\"#ArialMT-48\"/>\n      </g>\n     </g>\n    </g>\n    <g id=\"ytick_4\">\n     <g id=\"line2d_2\">\n      <g>\n       <use style=\"fill:#262626;stroke:#262626;stroke-width:1.25;\" x=\"322.211844\" xlink:href=\"#meb49004f4f\" y=\"162.377445\"/>\n      </g>\n     </g>\n     <g id=\"text_10\">\n      <!-- 400 -->\n      <g style=\"fill:#262626;\" transform=\"translate(331.711844 166.314242)scale(0.11 -0.11)\">\n       <use xlink:href=\"#ArialMT-52\"/>\n       <use x=\"55.615234\" xlink:href=\"#ArialMT-48\"/>\n       <use x=\"111.230469\" xlink:href=\"#ArialMT-48\"/>\n      </g>\n     </g>\n    </g>\n    <g id=\"ytick_5\">\n     <g id=\"line2d_3\">\n      <g>\n       <use style=\"fill:#262626;stroke:#262626;stroke-width:1.25;\" x=\"322.211844\" xlink:href=\"#meb49004f4f\" y=\"114.483172\"/>\n      </g>\n     </g>\n     <g id=\"text_11\">\n      <!-- 600 -->\n      <g style=\"fill:#262626;\" transform=\"translate(331.711844 118.419969)scale(0.11 -0.11)\">\n       <defs>\n        <path d=\"M 49.75 54.046875 \nL 41.015625 53.375 \nQ 39.84375 58.546875 37.703125 60.890625 \nQ 34.125 64.65625 28.90625 64.65625 \nQ 24.703125 64.65625 21.53125 62.3125 \nQ 17.390625 59.28125 14.984375 53.46875 \nQ 12.59375 47.65625 12.5 36.921875 \nQ 15.671875 41.75 20.265625 44.09375 \nQ 24.859375 46.4375 29.890625 46.4375 \nQ 38.671875 46.4375 44.84375 39.96875 \nQ 51.03125 33.5 51.03125 23.25 \nQ 51.03125 16.5 48.125 10.71875 \nQ 45.21875 4.9375 40.140625 1.859375 \nQ 35.0625 -1.21875 28.609375 -1.21875 \nQ 17.625 -1.21875 10.6875 6.859375 \nQ 3.765625 14.9375 3.765625 33.5 \nQ 3.765625 54.25 11.421875 63.671875 \nQ 18.109375 71.875 29.4375 71.875 \nQ 37.890625 71.875 43.28125 67.140625 \nQ 48.6875 62.40625 49.75 54.046875 \nz\nM 13.875 23.1875 \nQ 13.875 18.65625 15.796875 14.5 \nQ 17.71875 10.359375 21.1875 8.171875 \nQ 24.65625 6 28.46875 6 \nQ 34.03125 6 38.03125 10.484375 \nQ 42.046875 14.984375 42.046875 22.703125 \nQ 42.046875 30.125 38.078125 34.390625 \nQ 34.125 38.671875 28.125 38.671875 \nQ 22.171875 38.671875 18.015625 34.390625 \nQ 13.875 30.125 13.875 23.1875 \nz\n\" id=\"ArialMT-54\"/>\n       </defs>\n       <use xlink:href=\"#ArialMT-54\"/>\n       <use x=\"55.615234\" xlink:href=\"#ArialMT-48\"/>\n       <use x=\"111.230469\" xlink:href=\"#ArialMT-48\"/>\n      </g>\n     </g>\n    </g>\n    <g id=\"ytick_6\">\n     <g id=\"line2d_4\">\n      <g>\n       <use style=\"fill:#262626;stroke:#262626;stroke-width:1.25;\" x=\"322.211844\" xlink:href=\"#meb49004f4f\" y=\"66.588899\"/>\n      </g>\n     </g>\n     <g id=\"text_12\">\n      <!-- 800 -->\n      <g style=\"fill:#262626;\" transform=\"translate(331.711844 70.525696)scale(0.11 -0.11)\">\n       <defs>\n        <path d=\"M 17.671875 38.8125 \nQ 12.203125 40.828125 9.5625 44.53125 \nQ 6.9375 48.25 6.9375 53.421875 \nQ 6.9375 61.234375 12.546875 66.546875 \nQ 18.171875 71.875 27.484375 71.875 \nQ 36.859375 71.875 42.578125 66.421875 \nQ 48.296875 60.984375 48.296875 53.171875 \nQ 48.296875 48.1875 45.671875 44.5 \nQ 43.0625 40.828125 37.75 38.8125 \nQ 44.34375 36.671875 47.78125 31.875 \nQ 51.21875 27.09375 51.21875 20.453125 \nQ 51.21875 11.28125 44.71875 5.03125 \nQ 38.234375 -1.21875 27.640625 -1.21875 \nQ 17.046875 -1.21875 10.546875 5.046875 \nQ 4.046875 11.328125 4.046875 20.703125 \nQ 4.046875 27.6875 7.59375 32.390625 \nQ 11.140625 37.109375 17.671875 38.8125 \nz\nM 15.921875 53.71875 \nQ 15.921875 48.640625 19.1875 45.40625 \nQ 22.46875 42.1875 27.6875 42.1875 \nQ 32.765625 42.1875 36.015625 45.375 \nQ 39.265625 48.578125 39.265625 53.21875 \nQ 39.265625 58.0625 35.90625 61.359375 \nQ 32.5625 64.65625 27.59375 64.65625 \nQ 22.5625 64.65625 19.234375 61.421875 \nQ 15.921875 58.203125 15.921875 53.71875 \nz\nM 13.09375 20.65625 \nQ 13.09375 16.890625 14.875 13.375 \nQ 16.65625 9.859375 20.171875 7.921875 \nQ 23.6875 6 27.734375 6 \nQ 34.03125 6 38.125 10.046875 \nQ 42.234375 14.109375 42.234375 20.359375 \nQ 42.234375 26.703125 38.015625 30.859375 \nQ 33.796875 35.015625 27.4375 35.015625 \nQ 21.234375 35.015625 17.15625 30.90625 \nQ 13.09375 26.8125 13.09375 20.65625 \nz\n\" id=\"ArialMT-56\"/>\n       </defs>\n       <use xlink:href=\"#ArialMT-56\"/>\n       <use x=\"55.615234\" xlink:href=\"#ArialMT-48\"/>\n       <use x=\"111.230469\" xlink:href=\"#ArialMT-48\"/>\n      </g>\n     </g>\n    </g>\n    <g id=\"ytick_7\">\n     <g id=\"line2d_5\">\n      <g>\n       <use style=\"fill:#262626;stroke:#262626;stroke-width:1.25;\" x=\"322.211844\" xlink:href=\"#meb49004f4f\" y=\"18.694626\"/>\n      </g>\n     </g>\n     <g id=\"text_13\">\n      <!-- 1000 -->\n      <g style=\"fill:#262626;\" transform=\"translate(331.711844 22.631422)scale(0.11 -0.11)\">\n       <use xlink:href=\"#ArialMT-49\"/>\n       <use x=\"55.615234\" xlink:href=\"#ArialMT-48\"/>\n       <use x=\"111.230469\" xlink:href=\"#ArialMT-48\"/>\n       <use x=\"166.845703\" xlink:href=\"#ArialMT-48\"/>\n      </g>\n     </g>\n    </g>\n   </g>\n   <image height=\"217\" id=\"image61dacce12a\" transform=\"scale(1 -1)translate(0 -217)\" width=\"11\" x=\"311\" xlink:href=\"data:image/png;base64,\niVBORw0KGgoAAAANSUhEUgAAAAsAAADZCAYAAAD2WsoCAAABXklEQVR4nO3aSW4DMRBD0dbgS+T+54yzTXZ6iw8ogHtNECySqh7ssV9f7+fw2mOMU6yCHwCvOSPmmQ04uwEzGV2C5PMal7hRtY4GtIp25e/ifi6JO3Oj6wYNeAxNu1EOSKGcX+Xmz4qEms+vsvydG8dQLT9ZRwN2fQ6tC+MGGZ3mTsa+I5R5/Hrg5Sfmzg0BixsY9xUycG+IDNH8L90QGes5R4dn0Nx4i2Zh7twYxHxOXA6ImgUMeYfWrfktMoB5wpbZQ8DIfIxVNyjBbkA4hHuuO0KBjpqM0A1htm4Qc2bd3JWMp+sGgeFRBgfMNCOzPJnDOjcZD8kQcCgDbpvILJ8siNnA8JKnoQhYvjF2bgxxo9ScMS+KO5NxiXXiRhiKuSE/vlg3zm+E6IbtOmIWMHy0KDV3A1r5yY1MxseNX+Axso0Unm5yo7vD0mJ8RcxhRTufpRv0L4vPgH/A1YA/u5YrI8bbezUAAAAASUVORK5CYII=\" y=\"-7\"/>\n   <g id=\"patch_4\">\n    <path d=\"M 311.339844 224.64 \nL 311.339844 223.790625 \nL 311.339844 8.049375 \nL 311.339844 7.2 \nL 322.211844 7.2 \nL 322.211844 8.049375 \nL 322.211844 223.790625 \nL 322.211844 224.64 \nz\n\" style=\"fill:none;\"/>\n   </g>\n  </g>\n </g>\n <defs>\n  <clipPath id=\"pc03b30374c\">\n   <rect height=\"217.44\" width=\"267.84\" x=\"26.759844\" y=\"7.2\"/>\n  </clipPath>\n  <clipPath id=\"p530be620cb\">\n   <rect height=\"217.44\" width=\"10.872\" x=\"311.339844\" y=\"7.2\"/>\n  </clipPath>\n </defs>\n</svg>\n",
      "image/png": "[encoded data removed]"
     },
     "metadata": {}
    }
   ],
   "source": [
    "show_accuracy(y2_test, y_pred)"
   ]
  },
  {
   "source": [
    "# Testes com o modelo treinado"
   ],
   "cell_type": "markdown",
   "metadata": {}
  },
  {
   "cell_type": "code",
   "execution_count": 104,
   "metadata": {},
   "outputs": [],
   "source": [
    "def predict_label(text):\n",
    "    text = clean_text(text)\n",
    "    text = vectorizer.transform([text])\n",
    "    label = clf.predict(text)[0]\n",
    "    if label == 0:\n",
    "        return \"Negativo\"\n",
    "    elif label == 1:\n",
    "        return \"Positivo\"\n",
    "    else:\n",
    "        return \"Neutro\"\n",
    "\n"
   ]
  },
  {
   "cell_type": "code",
   "execution_count": 106,
   "metadata": {},
   "outputs": [
    {
     "output_type": "stream",
     "name": "stdout",
     "text": [
      "Review: Its a good app --> TAG: Positivo\n",
      "Review: its a bad app --> TAG: Negativo\n",
      "Review: Better app --> TAG: Positivo\n",
      "Review: Worst app --> TAG: Negativo\n",
      "Review: I like it --> TAG: Positivo\n",
      "Review: I dont like it --> TAG: Negativo\n"
     ]
    }
   ],
   "source": [
    "reviews = ['Its a good app', \"its a bad app\", \"Better app\", \"Worst app\", \"I like it\", \"I dont like it\"]\n",
    "for review in reviews:\n",
    "    print(f\"Review: {review} --> TAG: {predict_label(review)}\")\n"
   ]
  },
  {
   "source": [
    "# Deploy do modelo\n"
   ],
   "cell_type": "markdown",
   "metadata": {}
  },
  {
   "cell_type": "code",
   "execution_count": 108,
   "metadata": {},
   "outputs": [
    {
     "output_type": "execute_result",
     "data": {
      "text/plain": [
       "['../model/vectorizer.joblib']"
      ]
     },
     "metadata": {},
     "execution_count": 108
    }
   ],
   "source": [
    "import joblib\n",
    "\n",
    "DEPLOY_PATH = os.path.join('..', 'model')\n",
    "DEPLOY_MODEL_FILE = 'model.joblib'\n",
    "DEPLOY_VECTORIZER_FILE = 'vectorizer.joblib'\n",
    "\n",
    "os.makedirs(DEPLOY_PATH, exist_ok=True)\n",
    "\n",
    "deploy_model = os.path.join(DEPLOY_PATH, DEPLOY_MODEL_FILE)\n",
    "deploy_vectorizer = os.path.join(DEPLOY_PATH, DEPLOY_VECTORIZER_FILE)\n",
    "\n",
    "joblib.dump(clf, deploy_model)\n",
    "joblib.dump(vectorizer, deploy_vectorizer)\n"
   ]
  }
 ]
}